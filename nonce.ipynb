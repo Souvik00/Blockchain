{
 "cells": [
  {
   "cell_type": "code",
   "execution_count": 2,
   "metadata": {},
   "outputs": [
    {
     "name": "stdout",
     "output_type": "stream",
     "text": [
      "Input String: Hello World\n",
      "Nonce value for which the puzzlevis solved: 2\n",
      "Generated Hash: 0de69f56365c10550d05e65ae8229dd0686f7894a807830daec8caa879731f4d\n"
     ]
    }
   ],
   "source": [
    "import hashlib\n",
    "\n",
    "def solve_puzzle(string, leading_zeros):\n",
    "    nonce = 0\n",
    "    while True:\n",
    "        nonce_str = str(nonce)\n",
    "        data = string + nonce_str\n",
    "        hash_value = hashlib.sha256(data.encode()).hexdigest()\n",
    "        if hash_value.startswith(\"0\" * leading_zeros):\n",
    "            return nonce_str, hash_value\n",
    "        nonce += 1\n",
    "\n",
    "input_string = input(\"Enter the string: \")\n",
    "input_zeros = int(input(\"Enter the number of leading zeros: \"))\n",
    "nonce_value, hash_result = solve_puzzle(input_string, input_zeros)\n",
    "\n",
    "print(\"Input String:\", input_string)\n",
    "print(\"Nonce value for which the puzzlevis solved:\", nonce_value)\n",
    "print(\"Generated Hash:\", hash_result)"
   ]
  },
  {
   "cell_type": "code",
   "execution_count": null,
   "metadata": {},
   "outputs": [],
   "source": []
  }
 ],
 "metadata": {
  "kernelspec": {
   "display_name": "Python 3",
   "language": "python",
   "name": "python3"
  },
  "language_info": {
   "codemirror_mode": {
    "name": "ipython",
    "version": 3
   },
   "file_extension": ".py",
   "mimetype": "text/x-python",
   "name": "python",
   "nbconvert_exporter": "python",
   "pygments_lexer": "ipython3",
   "version": "3.11.0"
  }
 },
 "nbformat": 4,
 "nbformat_minor": 2
}
