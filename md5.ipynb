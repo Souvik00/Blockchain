{
 "cells": [
  {
   "cell_type": "code",
   "execution_count": 1,
   "metadata": {},
   "outputs": [
    {
     "name": "stdout",
     "output_type": "stream",
     "text": [
      "Number of 512-bit chunks: 1\n",
      "Chunk 1: ['01100010011001001000000000000000', '00000000000000000000000000000000', '00000000000000000000000000000000', '00000000000000000000000000000000', '00000000000000000000000000000000', '00000000000000000000000000000000', '00000000000000000000000000000000', '00000000000000000000000000000000', '00000000000000000000000000000000', '00000000000000000000000000000000', '00000000000000000000000000000000', '00000000000000000000000000000000', '00000000000000000000000000000000', '00000000000000000000000000000000', '00000000000000000000000000000000', '00000000000000000000000000010000']\n"
     ]
    }
   ],
   "source": [
    "s = input(\"Enter the input string: \")\n",
    "size = 64 \n",
    "n = len(s)\n",
    "m = n * 8\n",
    "\n",
    "msglen = format(m, '064b') \n",
    "ans = \"\"\n",
    "res = []\n",
    "\n",
    "for i in range(0, n, size):\n",
    "    chunk = s[i:i+size]\n",
    "\n",
    "    for j in range(len(chunk)):\n",
    "        temp = format(ord(chunk[j]), '08b')\n",
    "        ans += temp\n",
    "    \n",
    "    if i + size >= n:\n",
    "        ans += '1'\n",
    "        req = (448 - len(ans) % 512) % 512\n",
    "        ans += '0' * req\n",
    "        ans += msglen\n",
    "\n",
    "    while len(ans) >= 512:\n",
    "        block = ans[:512]\n",
    "        ans = ans[512:]\n",
    "        words = []\n",
    "        for k in range(0, 512, 32):\n",
    "            words.append(block[k:k+32])\n",
    "        res.append(words)\n",
    "\n",
    "# Print the final result\n",
    "print(f\"Number of 512-bit chunks: {len(res)}\")\n",
    "for idx, chunk in enumerate(res):\n",
    "    print(f\"Chunk {idx + 1}: {chunk}\")\n"
   ]
  },
  {
   "cell_type": "code",
   "execution_count": 9,
   "metadata": {},
   "outputs": [
    {
     "name": "stdout",
     "output_type": "stream",
     "text": [
      "MD5 Hash: e84725928f9bc866df127367eec8ce0c\n"
     ]
    }
   ],
   "source": [
    "import struct\n",
    "import math\n",
    "\n",
    "def left_rotate(x, c):\n",
    "    return ((x << c) | (x >> (32 - c))) & 0xFFFFFFFF\n",
    "\n",
    "def md5_manual(message):\n",
    "    A, B, C, D = 0x67452301, 0xEFCDAB89, 0x98BADCFE, 0x10325476\n",
    "    K = [int(abs(math.sin(i + 1)) * (2**32)) & 0xFFFFFFFF for i in range(64)]\n",
    "    S = [\n",
    "        [7, 12, 17, 22], [5, 9, 14, 20],\n",
    "        [4, 11, 16, 23], [6, 10, 15, 21]\n",
    "    ]\n",
    "    original_len_bits = len(message) * 8\n",
    "    message += b'\\x80'\n",
    "    message += b'\\x00' * ((56 - (len(message) % 64)) % 64)\n",
    "    message += struct.pack('<Q', original_len_bits)\n",
    "\n",
    "    for i in range(0, len(message), 64):\n",
    "        chunk = message[i:i+64]\n",
    "        M = struct.unpack('<16I', chunk)\n",
    "        a, b, c, d = A, B, C, D\n",
    "\n",
    "        for j in range(64):\n",
    "            if j < 16:\n",
    "                f, g, shift = (b & c) | (~b & d), j, S[0][j % 4]\n",
    "            elif j < 32:\n",
    "                f, g, shift = (d & b) | (~d & c), (5 * j + 1) % 16, S[1][j % 4]\n",
    "            elif j < 48:\n",
    "                f, g, shift = b ^ c ^ d, (3 * j + 5) % 16, S[2][j % 4]\n",
    "            else:\n",
    "                f, g, shift = c ^ (b | ~d), (7 * j) % 16, S[3][j % 4]\n",
    "            temp = (a + f + K[j] + M[g]) & 0xFFFFFFFF\n",
    "            a, b, c, d = d, (b + left_rotate(temp, shift)) & 0xFFFFFFFF, b, c\n",
    "\n",
    "        A, B, C, D = (A + a) & 0xFFFFFFFF, (B + b) & 0xFFFFFFFF, (C + c) & 0xFFFFFFFF, (D + d) & 0xFFFFFFFF\n",
    "\n",
    "    return f\"{A:08x}{B:08x}{C:08x}{D:08x}\"\n",
    "\n",
    "if __name__ == \"__main__\":\n",
    "    message = b\"This is a message sent by a computer user.\"\n",
    "    print(\"MD5 Hash:\", md5_manual(message))"
   ]
  },
  {
   "cell_type": "code",
   "execution_count": 8,
   "metadata": {},
   "outputs": [
    {
     "name": "stdout",
     "output_type": "stream",
     "text": [
      "Hash of the input string:\n",
      "922547e866c89b8f677312df0ccec8ee\n"
     ]
    }
   ],
   "source": [
    "import hashlib\n",
    "# making a message\n",
    "inputstring = \"This is a message sent by a computer user.\"\n",
    "# encoding the message using the library function\n",
    "output = hashlib.md5(inputstring.encode())\n",
    "# printing the hash function\n",
    "print(\"Hash of the input string:\")\n",
    "print(output.hexdigest())"
   ]
  },
  {
   "cell_type": "code",
   "execution_count": null,
   "metadata": {},
   "outputs": [],
   "source": []
  }
 ],
 "metadata": {
  "kernelspec": {
   "display_name": "Python 3",
   "language": "python",
   "name": "python3"
  },
  "language_info": {
   "codemirror_mode": {
    "name": "ipython",
    "version": 3
   },
   "file_extension": ".py",
   "mimetype": "text/x-python",
   "name": "python",
   "nbconvert_exporter": "python",
   "pygments_lexer": "ipython3",
   "version": "3.11.0"
  }
 },
 "nbformat": 4,
 "nbformat_minor": 2
}
