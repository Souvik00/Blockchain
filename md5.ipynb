{
 "cells": [
  {
   "cell_type": "code",
   "execution_count": 1,
   "metadata": {},
   "outputs": [
    {
     "name": "stdout",
     "output_type": "stream",
     "text": [
      "Number of 512-bit chunks: 1\n",
      "Chunk 1: ['01001000011001010110110001101100', '01101111001000000111011101101111', '01110010011011000110010010000000', '00000000000000000000000000000000', '00000000000000000000000000000000', '00000000000000000000000000000000', '00000000000000000000000000000000', '00000000000000000000000000000000', '00000000000000000000000000000000', '00000000000000000000000000000000', '00000000000000000000000000000000', '00000000000000000000000000000000', '00000000000000000000000000000000', '00000000000000000000000000000000', '00000000000000000000000000000000', '00000000000000000000000001011000']\n"
     ]
    }
   ],
   "source": [
    "s = input(\"Enter the input string: \")\n",
    "size = 64 \n",
    "n = len(s)\n",
    "m = n * 8\n",
    "\n",
    "msglen = format(m, '064b') \n",
    "ans = \"\"\n",
    "res = []\n",
    "\n",
    "for i in range(0, n, size):\n",
    "    chunk = s[i:i+size]\n",
    "\n",
    "    for j in range(len(chunk)):\n",
    "        temp = format(ord(chunk[j]), '08b')\n",
    "        ans += temp\n",
    "    \n",
    "    if i + size >= n:\n",
    "        ans += '1'\n",
    "        req = (448 - len(ans) % 512) % 512\n",
    "        ans += '0' * req\n",
    "        ans += msglen\n",
    "\n",
    "    while len(ans) >= 512:\n",
    "        block = ans[:512]\n",
    "        ans = ans[512:]\n",
    "        words = []\n",
    "        for k in range(0, 512, 32):\n",
    "            words.append(block[k:k+32])\n",
    "        res.append(words)\n",
    "\n",
    "# Print the final result\n",
    "print(f\"Number of 512-bit chunks: {len(res)}\")\n",
    "for idx, chunk in enumerate(res):\n",
    "    print(f\"Chunk {idx + 1}: {chunk}\")\n"
   ]
  },
  {
   "cell_type": "code",
   "execution_count": 2,
   "metadata": {},
   "outputs": [
    {
     "name": "stdout",
     "output_type": "stream",
     "text": [
      "Hash of the input string:\n",
      "922547e866c89b8f677312df0ccec8ee\n"
     ]
    }
   ],
   "source": [
    "import hashlib\n",
    "# making a message\n",
    "inputstring = \"This is a message sent by a computer user.\"\n",
    "# encoding the message using the library function\n",
    "output = hashlib.md5(inputstring.encode())\n",
    "# printing the hash function\n",
    "print(\"Hash of the input string:\")\n",
    "print(output.hexdigest())"
   ]
  },
  {
   "cell_type": "code",
   "execution_count": null,
   "metadata": {},
   "outputs": [],
   "source": []
  }
 ],
 "metadata": {
  "kernelspec": {
   "display_name": "Python 3",
   "language": "python",
   "name": "python3"
  },
  "language_info": {
   "codemirror_mode": {
    "name": "ipython",
    "version": 3
   },
   "file_extension": ".py",
   "mimetype": "text/x-python",
   "name": "python",
   "nbconvert_exporter": "python",
   "pygments_lexer": "ipython3",
   "version": "3.11.0rc1"
  }
 },
 "nbformat": 4,
 "nbformat_minor": 2
}
