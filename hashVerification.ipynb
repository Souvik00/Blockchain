{
 "cells": [
  {
   "cell_type": "code",
   "execution_count": 4,
   "metadata": {},
   "outputs": [
    {
     "name": "stdout",
     "output_type": "stream",
     "text": [
      "MD5 hash is consistent\n",
      "MD5 hash is 32 characters long\n",
      "SHA-1 hash is consistent\n",
      "SHA-1 hash is 40 characters long\n",
      "SHA-256 hash is consistent\n",
      "SHA-256 hash is 64 characters long\n"
     ]
    }
   ],
   "source": [
    "import hashlib\n",
    "\n",
    "message = input(\"Enter a message: \")\n",
    "\n",
    "md5_hash = hashlib.md5(message.encode()).hexdigest()\n",
    "sha1_hash = hashlib.sha1(message.encode()).hexdigest()\n",
    "sha256_hash = hashlib.sha256(message.encode()).hexdigest()\n",
    "\n",
    "if md5_hash == hashlib.md5(message.encode()).hexdigest():\n",
    "    print(\"MD5 hash is verified\")\n",
    "else:\n",
    "    print(\"MD5 hash is inconsistent\")\n",
    "\n",
    "if sha1_hash == hashlib.sha1(message.encode()).hexdigest():\n",
    "    print(\"SHA-1 hash is verified\")\n",
    "else:\n",
    "    print(\"SHA-1 hash is inconsistent\")\n",
    "\n",
    "if sha256_hash == hashlib.sha256(message.encode()).hexdigest():\n",
    "    print(\"SHA-256 hash is verified\")\n",
    "else:\n",
    "    print(\"SHA-256 hash is inconsistent\")\n",
    "\n"
   ]
  },
  {
   "cell_type": "code",
   "execution_count": null,
   "metadata": {},
   "outputs": [],
   "source": []
  }
 ],
 "metadata": {
  "kernelspec": {
   "display_name": "Python 3",
   "language": "python",
   "name": "python3"
  },
  "language_info": {
   "codemirror_mode": {
    "name": "ipython",
    "version": 3
   },
   "file_extension": ".py",
   "mimetype": "text/x-python",
   "name": "python",
   "nbconvert_exporter": "python",
   "pygments_lexer": "ipython3",
   "version": "3.11.0rc1"
  }
 },
 "nbformat": 4,
 "nbformat_minor": 2
}
