{
 "cells": [
  {
   "cell_type": "code",
   "execution_count": 13,
   "metadata": {},
   "outputs": [
    {
     "name": "stdout",
     "output_type": "stream",
     "text": [
      "Block mined successfully!\n",
      "Nonce: 8222\n",
      "Hash: 0000783a106f0d9ead786dcb71b086b435b59cadbcab61cc15c617576662e35a\n"
     ]
    }
   ],
   "source": [
    "import hashlib\n",
    "import time\n",
    "\n",
    "\n",
    "def solve_puzzle(string, leading_zeros):\n",
    "    nonce = 0\n",
    "    while True:\n",
    "        nonce_str = str(nonce)\n",
    "        data = string + nonce_str\n",
    "        hash_value = hashlib.sha256(data.encode()).hexdigest()\n",
    "        if hash_value.startswith(\"0\" * leading_zeros):\n",
    "            print(\"Block mined successfully!\")\n",
    "            print(\"Nonce:\", nonce)\n",
    "            print(\"Hash:\", hash_value)\n",
    "            break\n",
    "        nonce += 1\n",
    "\n",
    "# define the block header fields\n",
    "version = 1\n",
    "previous_block_hash = \"00000000000000000007d28e1a9ac3b37760e3b3fbbd3df2b8f7670a434f18a6\"\n",
    "merkle_root = \"9d7d1c2fa42e7f520d33de8e7bb28132586d30ef7c6d9b9e446e6c12d1f7cf25\"\n",
    "timestamp = int(time.time())\n",
    "\n",
    "# Get input from the user\n",
    "difficulty= int(input(\"Enter the number of leading zeros: \"))\n",
    "# combine the header fields into a single string\n",
    "header = str(version) + previous_block_hash + merkle_root +str(timestamp) + str(difficulty)\n",
    "solve_puzzle(header, difficulty)\n"
   ]
  },
  {
   "cell_type": "code",
   "execution_count": null,
   "metadata": {},
   "outputs": [],
   "source": []
  }
 ],
 "metadata": {
  "kernelspec": {
   "display_name": "Python 3",
   "language": "python",
   "name": "python3"
  },
  "language_info": {
   "codemirror_mode": {
    "name": "ipython",
    "version": 3
   },
   "file_extension": ".py",
   "mimetype": "text/x-python",
   "name": "python",
   "nbconvert_exporter": "python",
   "pygments_lexer": "ipython3",
   "version": "3.11.0rc1"
  }
 },
 "nbformat": 4,
 "nbformat_minor": 2
}
