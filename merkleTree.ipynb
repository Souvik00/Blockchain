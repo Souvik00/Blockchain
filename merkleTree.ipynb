{
 "cells": [
  {
   "cell_type": "code",
   "execution_count": 13,
   "metadata": {},
   "outputs": [
    {
     "name": "stdout",
     "output_type": "stream",
     "text": [
      "Merkle root: 14721fd4f79f1434b31545bee126ab3f800f42f3de41473d1e41c9c828061900\n",
      "14721fd4f79f1434b31545bee126ab3f800f42f3de41473d1e41c9c828061900\n",
      "    14721fd4f79f1434b31545bee126ab3f\n",
      "    800f42f3de41473d1e41c9c828061900\n"
     ]
    }
   ],
   "source": [
    "import hashlib\n",
    "\n",
    "def build_merkle_tree(leaves,flag):\n",
    "    num_leaves = len(leaves)\n",
    "\n",
    "    # If there is only one leaf, return it as the Merkle root\n",
    "    if num_leaves == 1:\n",
    "        if flag == 1:\n",
    "            return leaves[0]\n",
    "        else:\n",
    "            return hashlib.sha256(leaves[0].encode()).hexdigest()\n",
    "        \n",
    "\n",
    "    # If the number of leaves is odd, duplicate the last leaf\n",
    "    if num_leaves % 2 == 1:\n",
    "        leaves.append(leaves[-1])\n",
    "        num_leaves += 1\n",
    "\n",
    "    # Compute the hash of each pair of leaves\n",
    "    # Initialize an empty list to store the hashes\n",
    "    hashes = []\n",
    "\n",
    "    # Iterate over the range with a step of 2\n",
    "    for i in range(0, num_leaves, 2):\n",
    "        concatenated_leaves = leaves[i] + leaves[i+1]\n",
    "        # Encode the concatenated string to bytes\n",
    "        hex_digest = hashlib.sha256(concatenated_leaves.encode()).hexdigest()\n",
    "        \n",
    "        # Append the hash to the list\n",
    "        hashes.append(hex_digest)   \n",
    "\n",
    "    # Recursively build the Merkle tree from the hashes\n",
    "    return build_merkle_tree(hashes,1)\n",
    "# Example usage\n",
    "leaves = [\"apple\", \"banana\", \"cherry\", \"date\"]\n",
    "merkle_root = build_merkle_tree(leaves,0)\n",
    "print(\"Merkle root:\", merkle_root)\n",
    "\n",
    "# Print all nodes\n",
    "def print_merkle_tree(node, depth=0):\n",
    "    indent = \" \" * depth * 4\n",
    "    print(indent + node)\n",
    "    if len(node) == 64: # Check if the node is a hash value\n",
    "        print_merkle_tree(node[:32], depth+1)\n",
    "        print_merkle_tree(node[32:], depth+1)\n",
    "\n",
    "print_merkle_tree(merkle_root)"
   ]
  },
  {
   "cell_type": "code",
   "execution_count": null,
   "metadata": {},
   "outputs": [],
   "source": []
  }
 ],
 "metadata": {
  "kernelspec": {
   "display_name": "Python 3",
   "language": "python",
   "name": "python3"
  },
  "language_info": {
   "codemirror_mode": {
    "name": "ipython",
    "version": 3
   },
   "file_extension": ".py",
   "mimetype": "text/x-python",
   "name": "python",
   "nbconvert_exporter": "python",
   "pygments_lexer": "ipython3",
   "version": "3.11.0rc1"
  }
 },
 "nbformat": 4,
 "nbformat_minor": 2
}
