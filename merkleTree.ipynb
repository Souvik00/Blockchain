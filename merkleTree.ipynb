{
 "cells": [
  {
   "cell_type": "code",
   "execution_count": 1,
   "metadata": {},
   "outputs": [
    {
     "name": "stdout",
     "output_type": "stream",
     "text": [
      "Merkle Tree:\n",
      "Binary Tree Representation:\n",
      "Index 1: 5b41362bc82b7f3d56edc5a306db22105707d01ff4819e26faef9724a2d406c9\n",
      "\n",
      "Root Hash: 5b41362bc82b7f3d56edc5a306db22105707d01ff4819e26faef9724a2d406c9\n"
     ]
    }
   ],
   "source": [
    "import hashlib\n",
    "import math\n",
    "\n",
    "class MerkleTree:\n",
    "    def __init__(self, data):\n",
    "        self.data = data\n",
    "        self.tree = []\n",
    "        self.build_tree()\n",
    "\n",
    "    @staticmethod\n",
    "    def hash_data(data):\n",
    "        return hashlib.sha256(data.encode('utf-8')).hexdigest()\n",
    "\n",
    "    def build_tree(self):\n",
    "        num_leaves = len(self.data)\n",
    "        full_size = 2 ** math.ceil(math.log2(num_leaves))  \n",
    "        leaf_level = []\n",
    "        for d in self.data:\n",
    "            leaf_level.append(self.hash_data(d))\n",
    "\n",
    "        while len(leaf_level) < full_size:\n",
    "            leaf_level.append(self.hash_data(\"\")) \n",
    "\n",
    "        self.tree = [None] * (2 * full_size)\n",
    "\n",
    "        for i in range(full_size):\n",
    "            self.tree[full_size + i] = leaf_level[i]\n",
    "\n",
    "        for i in range(full_size - 1, 0, -1):\n",
    "            left_child = self.tree[2 * i]\n",
    "            right_child = self.tree[2 * i + 1]\n",
    "            self.tree[i] = self.hash_data(left_child + right_child)\n",
    "\n",
    "    def get_root(self):\n",
    "        return self.tree[1] if self.tree else None\n",
    "\n",
    "    def print_tree(self):\n",
    "        print(\"Binary Tree Representation:\")\n",
    "        for i in range(1, len(self.tree)):\n",
    "            print(f\"Index {i}: {self.tree[i]}\")\n",
    "\n",
    "\n",
    "# Example usage\n",
    "if __name__ == \"__main__\":\n",
    "    data = [\"data1\", \"data2\", \"data3\", \"data4\"]\n",
    "    tree = MerkleTree(data)\n",
    "\n",
    "    print(\"Merkle Tree:\")\n",
    "    tree.print_tree()\n",
    "\n",
    "    root = tree.get_root()\n",
    "    print(\"\\nRoot Hash:\", root)\n",
    "\n"
   ]
  },
  {
   "cell_type": "code",
   "execution_count": null,
   "metadata": {},
   "outputs": [],
   "source": []
  }
 ],
 "metadata": {
  "kernelspec": {
   "display_name": "Python 3",
   "language": "python",
   "name": "python3"
  },
  "language_info": {
   "codemirror_mode": {
    "name": "ipython",
    "version": 3
   },
   "file_extension": ".py",
   "mimetype": "text/x-python",
   "name": "python",
   "nbconvert_exporter": "python",
   "pygments_lexer": "ipython3",
   "version": "3.11.0rc1"
  }
 },
 "nbformat": 4,
 "nbformat_minor": 2
}
