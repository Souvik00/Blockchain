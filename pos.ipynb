{
 "cells": [
  {
   "cell_type": "code",
   "execution_count": 1,
   "metadata": {},
   "outputs": [
    {
     "name": "stdout",
     "output_type": "stream",
     "text": [
      "Mining block 1...\n",
      "Mining block 2...\n",
      "Mining block 3...\n",
      "Is blockchain valid? True\n"
     ]
    }
   ],
   "source": [
    "import hashlib\n",
    "import time\n",
    "\n",
    "class Block:\n",
    "    def __init__(self, data, previous_hash):\n",
    "        self.timestamp = time.time()\n",
    "        self.data = data\n",
    "        self.previous_hash = previous_hash\n",
    "        self.hash = self.generate_hash()\n",
    "\n",
    "    def generate_hash(self):\n",
    "        block_contents = str(self.timestamp) + str(self.data) + str(self.previous_hash)\n",
    "        return hashlib.sha256(block_contents.encode()).hexdigest()\n",
    "\n",
    "class Blockchain:\n",
    "    def __init__(self):\n",
    "        self.chain = [self.create_genesis_block()]\n",
    "\n",
    "    def create_genesis_block(self):\n",
    "        return Block(\"Genesis Block\", \"0\")\n",
    "\n",
    "    def get_latest_block(self):\n",
    "        return self.chain[-1]\n",
    "\n",
    "    def add_block(self, new_block):\n",
    "        new_block.previous_hash = self.get_latest_block().hash\n",
    "        new_block.hash = new_block.generate_hash()\n",
    "        self.chain.append(new_block)\n",
    "\n",
    "    def is_chain_valid(self):\n",
    "        for i in range(1, len(self.chain)):\n",
    "            current_block = self.chain[i]\n",
    "            previous_block = self.chain[i - 1]\n",
    "            \n",
    "            if current_block.hash != current_block.generate_hash():\n",
    "                return False\n",
    "            \n",
    "            if current_block.previous_hash != previous_block.hash:\n",
    "                return False\n",
    "        \n",
    "        return True\n",
    "\n",
    "if __name__ == \"__main__\":\n",
    "    blockchain = Blockchain()\n",
    "    \n",
    "    print(\"Mining block 1...\")\n",
    "    block1 = Block(\"Transaction 1\", blockchain.get_latest_block().hash)\n",
    "    blockchain.add_block(block1)\n",
    "    \n",
    "    print(\"Mining block 2...\")\n",
    "    block2 = Block(\"Transaction 2\", blockchain.get_latest_block().hash)\n",
    "    blockchain.add_block(block2)\n",
    "    \n",
    "    print(\"Mining block 3...\")\n",
    "    block3 = Block(\"Transaction 3\", blockchain.get_latest_block().hash)\n",
    "    blockchain.add_block(block3)\n",
    "    \n",
    "    print(\"Is blockchain valid?\", blockchain.is_chain_valid())\n"
   ]
  }
 ],
 "metadata": {
  "kernelspec": {
   "display_name": "Python 3",
   "language": "python",
   "name": "python3"
  },
  "language_info": {
   "codemirror_mode": {
    "name": "ipython",
    "version": 3
   },
   "file_extension": ".py",
   "mimetype": "text/x-python",
   "name": "python",
   "nbconvert_exporter": "python",
   "pygments_lexer": "ipython3",
   "version": "3.11.0rc1"
  }
 },
 "nbformat": 4,
 "nbformat_minor": 2
}
