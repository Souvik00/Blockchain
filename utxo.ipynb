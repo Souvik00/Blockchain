{
 "cells": [
  {
   "cell_type": "code",
   "execution_count": 3,
   "metadata": {},
   "outputs": [
    {
     "name": "stdout",
     "output_type": "stream",
     "text": [
      "UTXO (txid1:0) with value 10\n",
      "UTXO (txid2:1) with value 20\n",
      "Transaction with 1 inputs and 2 outputs\n",
      "Transaction with 1 inputs and 2 outputs\n",
      "fe3230fe9ee48b845306422ff3c8ae3423fe87ea0cffde0f898813ee6adddd4e\n",
      "d0b5cddfc541febacd6188b4f15947cc3234e2f590bc3f7cd5a619aa644aa070\n"
     ]
    }
   ],
   "source": [
    "# Importing required libraries\n",
    "import hashlib\n",
    "\n",
    "# Defining the UTXO class\n",
    "class UTXO:\n",
    "\n",
    "    def __init__(self, txid, index, value):\n",
    "        self.txid = txid\n",
    "        self.index = index\n",
    "        self.value = value\n",
    "\n",
    "    def __str__(self):\n",
    "        return f\"UTXO ({self.txid}:{self.index}) with value {self.value}\"\n",
    "\n",
    "# Defining the transaction class\n",
    "class Transaction:\n",
    "    def __init__(self, inputs, outputs):\n",
    "        self.inputs = inputs\n",
    "        self.outputs = outputs\n",
    "    def __str__(self):\n",
    "        return f\"Transaction with {len(self.inputs)} inputs and {len(self.outputs)} outputs\"\n",
    "\n",
    "    def hash(self):\n",
    "        # Generating a hash for the transaction\n",
    "        tx_input = ''.join([str(inp.txid) + str(inp.index) for inp in self.inputs])\n",
    "        tx_output = ''.join([str(out.value) for out in self.outputs])\n",
    "        tx_data = tx_input + tx_output\n",
    "        return hashlib.sha256(tx_data.encode()).hexdigest()\n",
    "\n",
    "# Defining the sample UTXOs and transactions\n",
    "utxo1 = UTXO('txid1', 0, 10)\n",
    "utxo2 = UTXO('txid2', 1, 20)\n",
    "\n",
    "input1 = [utxo1]\n",
    "output1 = [UTXO('txid3', 0, 25), UTXO('txid3', 1, 5)]\n",
    "tx1 = Transaction(input1, output1)\n",
    "input2 = [utxo2]\n",
    "output2 = [UTXO('txid4', 0, 15), UTXO('txid4', 1, 5)]\n",
    "tx2 = Transaction(input2, output2)\n",
    "\n",
    "# Printing the UTXOs and transactions\n",
    "print(utxo1)\n",
    "print(utxo2)\n",
    "print(tx1)\n",
    "print(tx2)\n",
    "\n",
    "# Generating hashes for the transactions\n",
    "print(tx1.hash())\n",
    "print(tx2.hash())"
   ]
  }
 ],
 "metadata": {
  "kernelspec": {
   "display_name": "Python 3",
   "language": "python",
   "name": "python3"
  },
  "language_info": {
   "codemirror_mode": {
    "name": "ipython",
    "version": 3
   },
   "file_extension": ".py",
   "mimetype": "text/x-python",
   "name": "python",
   "nbconvert_exporter": "python",
   "pygments_lexer": "ipython3",
   "version": "3.11.0rc1"
  }
 },
 "nbformat": 4,
 "nbformat_minor": 2
}
