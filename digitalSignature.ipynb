{
 "cells": [
  {
   "cell_type": "code",
   "execution_count": 47,
   "metadata": {},
   "outputs": [
    {
     "name": "stdout",
     "output_type": "stream",
     "text": [
      "Hello World\n",
      "\n",
      "Private Key : 6234d03b1ace835ce78200e4938662d0802b43e018a58f4f\n",
      "\n",
      "Public Key : 5fb8aa609bf125092fd86890024fcb9af0ead1ffa059425e6cf77ad10ddc46f215ae936e9872969b8f45b25083722b3a\n",
      "\n",
      "Signature : 691bae411f63c451a0f040d666fd2692016d799c556bfcca75a4986162166f72454ae60063917793752217d1be7126e0\n",
      "\n",
      "Signature Verified\n"
     ]
    }
   ],
   "source": [
    "import hashlib\n",
    "from ecdsa import SigningKey\n",
    "\n",
    "file_path = '/home/souvik/Documents/Blockchain/in.txt'\n",
    "with open(file_path, 'r') as file:\n",
    "    data = file.read()\n",
    "    print(data)\n",
    "\n",
    "    private_key1 = SigningKey.generate()\n",
    "    private_key2 = SigningKey.generate()\n",
    "    print(\"\\nPrivate Key : \" + private_key1.to_string().hex())\n",
    "\n",
    "    public_key = private_key1.get_verifying_key()\n",
    "    public_key2 = private_key2.get_verifying_key()\n",
    "    print(\"\\nPublic Key : \" + public_key.to_string().hex())\n",
    "\n",
    "    hash = hashlib.sha256(data.encode()).hexdigest()\n",
    "    signature = private_key1.sign(hash.encode())\n",
    "    print(\"\\nSignature : \" + signature.hex())\n",
    "\n",
    "    if(public_key.verify(signature, hash.encode())) :\n",
    "        print(\"\\nSignature Verified\")\n",
    "    else :\n",
    "        print(\"\\nSignature Not Verified\")\n",
    "\n"
   ]
  },
  {
   "cell_type": "code",
   "execution_count": 48,
   "metadata": {},
   "outputs": [
    {
     "name": "stdout",
     "output_type": "stream",
     "text": [
      "Hello World\n",
      "\n",
      "Private Key : ddfd57e0f67da9238b75f6fe991b82eb960a3ea48baa2341\n",
      "\n",
      "Public Key : 10062636747c6cd4130ae42b371f6c46b2c6becbdd6d803a340186e013cd6ab66643ec7454f17565ba9132329694a61b\n",
      "\n",
      "Signature : ecd4d405a0336096624c9a2052f47a3f47980cd3cfad0c995e97f404ed2e74d42f4120e3e56f240c3f66533e218a6766\n"
     ]
    },
    {
     "ename": "BadSignatureError",
     "evalue": "Signature verification failed",
     "output_type": "error",
     "traceback": [
      "\u001b[0;31m---------------------------------------------------------------------------\u001b[0m",
      "\u001b[0;31mBadSignatureError\u001b[0m                         Traceback (most recent call last)",
      "Cell \u001b[0;32mIn[48], line 21\u001b[0m\n\u001b[1;32m     18\u001b[0m signature \u001b[38;5;241m=\u001b[39m private_key2\u001b[38;5;241m.\u001b[39msign(\u001b[38;5;28mhash\u001b[39m\u001b[38;5;241m.\u001b[39mencode())\n\u001b[1;32m     19\u001b[0m \u001b[38;5;28mprint\u001b[39m(\u001b[38;5;124m\"\u001b[39m\u001b[38;5;130;01m\\n\u001b[39;00m\u001b[38;5;124mSignature : \u001b[39m\u001b[38;5;124m\"\u001b[39m \u001b[38;5;241m+\u001b[39m signature\u001b[38;5;241m.\u001b[39mhex())\n\u001b[0;32m---> 21\u001b[0m \u001b[38;5;28;01mif\u001b[39;00m(\u001b[43mpublic_key\u001b[49m\u001b[38;5;241;43m.\u001b[39;49m\u001b[43mverify\u001b[49m\u001b[43m(\u001b[49m\u001b[43msignature\u001b[49m\u001b[43m,\u001b[49m\u001b[43m \u001b[49m\u001b[38;5;28;43mhash\u001b[39;49m\u001b[38;5;241;43m.\u001b[39;49m\u001b[43mencode\u001b[49m\u001b[43m(\u001b[49m\u001b[43m)\u001b[49m\u001b[43m)\u001b[49m) :\n\u001b[1;32m     22\u001b[0m     \u001b[38;5;28mprint\u001b[39m(\u001b[38;5;124m\"\u001b[39m\u001b[38;5;130;01m\\n\u001b[39;00m\u001b[38;5;124mSignature Verified\u001b[39m\u001b[38;5;124m\"\u001b[39m)\n\u001b[1;32m     23\u001b[0m \u001b[38;5;28;01melse\u001b[39;00m :\n",
      "File \u001b[0;32m~/.local/lib/python3.11/site-packages/ecdsa/keys.py:685\u001b[0m, in \u001b[0;36mVerifyingKey.verify\u001b[0;34m(self, signature, data, hashfunc, sigdecode, allow_truncate)\u001b[0m\n\u001b[1;32m    683\u001b[0m hashfunc \u001b[38;5;241m=\u001b[39m hashfunc \u001b[38;5;129;01mor\u001b[39;00m \u001b[38;5;28mself\u001b[39m\u001b[38;5;241m.\u001b[39mdefault_hashfunc\n\u001b[1;32m    684\u001b[0m digest \u001b[38;5;241m=\u001b[39m hashfunc(data)\u001b[38;5;241m.\u001b[39mdigest()\n\u001b[0;32m--> 685\u001b[0m \u001b[38;5;28;01mreturn\u001b[39;00m \u001b[38;5;28;43mself\u001b[39;49m\u001b[38;5;241;43m.\u001b[39;49m\u001b[43mverify_digest\u001b[49m\u001b[43m(\u001b[49m\u001b[43msignature\u001b[49m\u001b[43m,\u001b[49m\u001b[43m \u001b[49m\u001b[43mdigest\u001b[49m\u001b[43m,\u001b[49m\u001b[43m \u001b[49m\u001b[43msigdecode\u001b[49m\u001b[43m,\u001b[49m\u001b[43m \u001b[49m\u001b[43mallow_truncate\u001b[49m\u001b[43m)\u001b[49m\n",
      "File \u001b[0;32m~/.local/lib/python3.11/site-packages/ecdsa/keys.py:741\u001b[0m, in \u001b[0;36mVerifyingKey.verify_digest\u001b[0;34m(self, signature, digest, sigdecode, allow_truncate)\u001b[0m\n\u001b[1;32m    739\u001b[0m \u001b[38;5;28;01mif\u001b[39;00m \u001b[38;5;28mself\u001b[39m\u001b[38;5;241m.\u001b[39mpubkey\u001b[38;5;241m.\u001b[39mverifies(number, sig):\n\u001b[1;32m    740\u001b[0m     \u001b[38;5;28;01mreturn\u001b[39;00m \u001b[38;5;28;01mTrue\u001b[39;00m\n\u001b[0;32m--> 741\u001b[0m \u001b[38;5;28;01mraise\u001b[39;00m BadSignatureError(\u001b[38;5;124m\"\u001b[39m\u001b[38;5;124mSignature verification failed\u001b[39m\u001b[38;5;124m\"\u001b[39m)\n",
      "\u001b[0;31mBadSignatureError\u001b[0m: Signature verification failed"
     ]
    }
   ],
   "source": [
    "import hashlib\n",
    "from ecdsa import SigningKey\n",
    "\n",
    "file_path = '/home/souvik/Documents/Blockchain/in.txt'\n",
    "with open(file_path, 'r') as file:\n",
    "    data = file.read()\n",
    "    print(data)\n",
    "\n",
    "    private_key1 = SigningKey.generate()\n",
    "    private_key2 = SigningKey.generate()\n",
    "    print(\"\\nPrivate Key : \" + private_key2.to_string().hex())\n",
    "\n",
    "    public_key = private_key1.get_verifying_key()\n",
    "    public_key2 = private_key2.get_verifying_key()\n",
    "    print(\"\\nPublic Key : \" + public_key.to_string().hex())\n",
    "\n",
    "    hash = hashlib.sha256(data.encode()).hexdigest()\n",
    "    signature = private_key2.sign(hash.encode())\n",
    "    print(\"\\nSignature : \" + signature.hex())\n",
    "\n",
    "    if(public_key.verify(signature, hash.encode())) :\n",
    "        print(\"\\nSignature Verified\")\n",
    "    else :\n",
    "        print(\"\\nSignature Not Verified\")\n",
    "\n"
   ]
  },
  {
   "cell_type": "code",
   "execution_count": null,
   "metadata": {},
   "outputs": [],
   "source": []
  }
 ],
 "metadata": {
  "kernelspec": {
   "display_name": "Python 3",
   "language": "python",
   "name": "python3"
  },
  "language_info": {
   "codemirror_mode": {
    "name": "ipython",
    "version": 3
   },
   "file_extension": ".py",
   "mimetype": "text/x-python",
   "name": "python",
   "nbconvert_exporter": "python",
   "pygments_lexer": "ipython3",
   "version": "3.11.0rc1"
  }
 },
 "nbformat": 4,
 "nbformat_minor": 2
}
