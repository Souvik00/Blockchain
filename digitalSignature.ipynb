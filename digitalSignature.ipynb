{
 "cells": [
  {
   "cell_type": "code",
   "execution_count": 1,
   "metadata": {},
   "outputs": [
    {
     "name": "stdout",
     "output_type": "stream",
     "text": [
      "Digital Signature: b'\\x1f\\xb8.\\r\\x94\\xd4\\xfe\\xabA\\x8d\\x89Z\\x8b\\x7ft\\xb9\\xbf\\xddm\\x11\"\\x0b\\xa5\\n\\x99\\xa2\\x1d\\xef\\x1f\\x06\"\\xd1\\xff6\\xdb\\xf8\\xeb\\xf5\\xd5^>\\xde\\x81R\\'K\\xcc\\xb1$\\xad\\xa7\\x9b\\xb3\\x97|G\\x93/C27FR\\x96\\xe0M\\tmO\\xd4\\xc6\\x97 \\xe11\\xf6.2\\xc0\"\\x1d\\x08\\xe03W\\xb4\\x85\\xe2\\xffC\\xf3\\xb8\\xe7\\xf6\\xf0\\x02N@\\x86Q\\xa9 \\x16\\x8f\\x0e\\x9cG\\x1cD\\xb2m\\x88\\x83\\xb4(\\xb2\\x8e\\xe4\\x18\\x91*\\n\\x11U a\\xb7N^\\x83-\\x19\\x915\\xe4\\xca7\\xe9\\xe1\\xb8\\x91>2\\x19KPx\\xdc\\x19Nt*TE/>\\xfb\\xc73\\xfd\\x8ec9\\xb3I;|>9\\xc5=\\x8a3\\\\D\\xb6*b\\x1b|=\\xc6\\xc5\\x088\\xdal\\xcf.\\xa1\\x89\\xfcc\\xf0\\xf9\\xfb\\xd5=3\\xe8qh\\xd0,\\xe8\\x7f\\xa6\\x07a\\xdd\\xbd\\xf5s\\xb2S\\xe9\\x14_\\xce\\x01\\x8a[p\\n@\\xf9\\x07\\xc0\\xca\\xba5\\x14\\xf3\\xc44\\x19\\x02\\xce\\x92\\x8c\\x04\\xb8\\xf5\\xf0r\\xfc\\'\\t\\xe2d\\x87\\x93,\\xc8M\\xa5'\n",
      "Signature is valid.\n"
     ]
    }
   ],
   "source": [
    "import hashlib\n",
    "import rsa\n",
    "\n",
    "public_key, private_key = rsa.newkeys(2048)\n",
    "def create_signature(message, private_key):\n",
    "    hashed_message = hashlib.sha256(message.encode()).digest()\n",
    "    signature = rsa.sign(hashed_message, private_key, 'SHA-256')\n",
    "    return signature\n",
    "\n",
    "def verify_signature(message, signature, public_key):\n",
    "    hashed_message = hashlib.sha256(message.encode()).digest()\n",
    "    try:\n",
    "        rsa.verify(hashed_message, signature, public_key)\n",
    "        print(\"Signature is valid.\")\n",
    "    except rsa.VerificationError:\n",
    "        print(\"Signature is invalid.\")\n",
    "\n",
    "\n",
    "message = input(\"Enter the message: \")\n",
    "\n",
    "signature = create_signature(message, private_key)\n",
    "print(\"Digital Signature:\", signature)\n",
    "verify_signature(message, signature, public_key)"
   ]
  },
  {
   "cell_type": "code",
   "execution_count": null,
   "metadata": {},
   "outputs": [],
   "source": []
  }
 ],
 "metadata": {
  "kernelspec": {
   "display_name": "Python 3",
   "language": "python",
   "name": "python3"
  },
  "language_info": {
   "codemirror_mode": {
    "name": "ipython",
    "version": 3
   },
   "file_extension": ".py",
   "mimetype": "text/x-python",
   "name": "python",
   "nbconvert_exporter": "python",
   "pygments_lexer": "ipython3",
   "version": "3.11.0"
  }
 },
 "nbformat": 4,
 "nbformat_minor": 2
}
